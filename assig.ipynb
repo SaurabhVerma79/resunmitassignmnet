{
 "cells": [
  {
   "cell_type": "code",
   "execution_count": null,
   "id": "feceabf6-3116-40f4-930a-2528558ec65a",
   "metadata": {},
   "outputs": [],
   "source": [
    "#question1\n",
    "from collections.abc import Iterable\n",
    "\n",
    "def product_of_numbers(lst):\n",
    "    numbers = []\n",
    "    if isinstance(lst, Iterable):\n",
    "        for item in lst:\n",
    "            if isinstance(item, (int, float)):\n",
    "                numbers.append(item)\n",
    "            elif isinstance(item, dict):\n",
    "                for key, value in item.items():\n",
    "                    if isinstance(key, (int, float)):\n",
    "                        numbers.append(key)\n",
    "                    if isinstance(value, (int, float)):\n",
    "                        numbers.append(value)\n",
    "                    elif isinstance(value, Iterable):\n",
    "                        numbers += product_of_numbers(value)\n",
    "            elif isinstance(item, Iterable):\n",
    "                numbers += product_of_numbers(item)\n",
    "    return numbers\n",
    "\n",
    "list1 = [1,2,3,4, [44,55,66, True], False, (34,56,78,89,34), {1,2,3,3,2,1}, {1:34, \"key2\": [55, 67, 78, 89], 4: (45,\n",
    "22, 61, 34)}, [56, 'data science'], 'Machine Learning']\n",
    "\n",
    "result = product_of_numbers(list1)\n",
    "\n",
    "product = 1\n",
    "for number in result:\n",
    "    product *= number\n",
    "\n",
    "print(product)\n"
   ]
  },
  {
   "cell_type": "code",
   "execution_count": null,
   "id": "d0d6efbb-9854-4034-9087-736098f6cf13",
   "metadata": {},
   "outputs": [],
   "source": [
    "#question2\n",
    "def encrypt_message(message):\n",
    "    alphabet = \"abcdefghijklmnopqrstuvwxyz\"\n",
    "    encrypted_message = \"\"\n",
    "    for char in message.lower():\n",
    "        if char in alphabet:\n",
    "            encrypted_message += alphabet[25 - alphabet.index(char)]\n",
    "        elif char == \" \":\n",
    "            encrypted_message += \"$\"\n",
    "        else:\n",
    "            encrypted_message += char\n",
    "    return encrypted_message\n",
    "\n",
    "message = \"I want to become a Data Scientist.\"\n",
    "encrypted_message = encrypt_message(message)\n",
    "print(encrypted_message)\n"
   ]
  }
 ],
 "metadata": {
  "kernelspec": {
   "display_name": "Python 3 (ipykernel)",
   "language": "python",
   "name": "python3"
  },
  "language_info": {
   "codemirror_mode": {
    "name": "ipython",
    "version": 3
   },
   "file_extension": ".py",
   "mimetype": "text/x-python",
   "name": "python",
   "nbconvert_exporter": "python",
   "pygments_lexer": "ipython3",
   "version": "3.10.8"
  }
 },
 "nbformat": 4,
 "nbformat_minor": 5
}
